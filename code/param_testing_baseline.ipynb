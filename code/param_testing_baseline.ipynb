{
  "cells": [
    {
      "cell_type": "markdown",
      "metadata": {
        "id": "QqcWA2V6ftll"
      },
      "source": [
        "## Install Libraries\n"
      ]
    },
    {
      "cell_type": "code",
      "execution_count": 30,
      "metadata": {
        "colab": {
          "base_uri": "https://localhost:8080/"
        },
        "id": "InbX2HfBftlo",
        "outputId": "9202a7a7-714a-4588-a627-22f6e2850069"
      },
      "outputs": [
        {
          "output_type": "stream",
          "name": "stdout",
          "text": [
            "Looking in indexes: https://pypi.org/simple, https://us-python.pkg.dev/colab-wheels/public/simple/\n",
            "Requirement already satisfied: ray[tune] in /usr/local/lib/python3.9/dist-packages (2.3.1)\n",
            "Requirement already satisfied: aiosignal in /usr/local/lib/python3.9/dist-packages (from ray[tune]) (1.3.1)\n",
            "Requirement already satisfied: jsonschema in /usr/local/lib/python3.9/dist-packages (from ray[tune]) (4.3.3)\n",
            "Requirement already satisfied: numpy>=1.19.3 in /usr/local/lib/python3.9/dist-packages (from ray[tune]) (1.22.4)\n",
            "Requirement already satisfied: virtualenv>=20.0.24 in /usr/local/lib/python3.9/dist-packages (from ray[tune]) (20.21.0)\n",
            "Requirement already satisfied: msgpack<2.0.0,>=1.0.0 in /usr/local/lib/python3.9/dist-packages (from ray[tune]) (1.0.5)\n",
            "Requirement already satisfied: requests in /usr/local/lib/python3.9/dist-packages (from ray[tune]) (2.27.1)\n",
            "Requirement already satisfied: grpcio>=1.32.0 in /usr/local/lib/python3.9/dist-packages (from ray[tune]) (1.53.0)\n",
            "Requirement already satisfied: pyyaml in /usr/local/lib/python3.9/dist-packages (from ray[tune]) (6.0)\n",
            "Requirement already satisfied: protobuf!=3.19.5,>=3.15.3 in /usr/local/lib/python3.9/dist-packages (from ray[tune]) (3.20.3)\n",
            "Requirement already satisfied: filelock in /usr/local/lib/python3.9/dist-packages (from ray[tune]) (3.11.0)\n",
            "Requirement already satisfied: frozenlist in /usr/local/lib/python3.9/dist-packages (from ray[tune]) (1.3.3)\n",
            "Requirement already satisfied: attrs in /usr/local/lib/python3.9/dist-packages (from ray[tune]) (22.2.0)\n",
            "Requirement already satisfied: click>=7.0 in /usr/local/lib/python3.9/dist-packages (from ray[tune]) (8.1.3)\n",
            "Requirement already satisfied: tensorboardX>=1.9 in /usr/local/lib/python3.9/dist-packages (from ray[tune]) (2.6)\n",
            "Requirement already satisfied: pandas in /usr/local/lib/python3.9/dist-packages (from ray[tune]) (1.5.3)\n",
            "Requirement already satisfied: tabulate in /usr/local/lib/python3.9/dist-packages (from ray[tune]) (0.8.10)\n",
            "Requirement already satisfied: packaging in /usr/local/lib/python3.9/dist-packages (from tensorboardX>=1.9->ray[tune]) (23.0)\n",
            "Requirement already satisfied: platformdirs<4,>=2.4 in /usr/local/lib/python3.9/dist-packages (from virtualenv>=20.0.24->ray[tune]) (3.2.0)\n",
            "Requirement already satisfied: distlib<1,>=0.3.6 in /usr/local/lib/python3.9/dist-packages (from virtualenv>=20.0.24->ray[tune]) (0.3.6)\n",
            "Requirement already satisfied: pyrsistent!=0.17.0,!=0.17.1,!=0.17.2,>=0.14.0 in /usr/local/lib/python3.9/dist-packages (from jsonschema->ray[tune]) (0.19.3)\n",
            "Requirement already satisfied: python-dateutil>=2.8.1 in /usr/local/lib/python3.9/dist-packages (from pandas->ray[tune]) (2.8.2)\n",
            "Requirement already satisfied: pytz>=2020.1 in /usr/local/lib/python3.9/dist-packages (from pandas->ray[tune]) (2022.7.1)\n",
            "Requirement already satisfied: urllib3<1.27,>=1.21.1 in /usr/local/lib/python3.9/dist-packages (from requests->ray[tune]) (1.26.15)\n",
            "Requirement already satisfied: charset-normalizer~=2.0.0 in /usr/local/lib/python3.9/dist-packages (from requests->ray[tune]) (2.0.12)\n",
            "Requirement already satisfied: certifi>=2017.4.17 in /usr/local/lib/python3.9/dist-packages (from requests->ray[tune]) (2022.12.7)\n",
            "Requirement already satisfied: idna<4,>=2.5 in /usr/local/lib/python3.9/dist-packages (from requests->ray[tune]) (3.4)\n",
            "Requirement already satisfied: six>=1.5 in /usr/local/lib/python3.9/dist-packages (from python-dateutil>=2.8.1->pandas->ray[tune]) (1.16.0)\n"
          ]
        }
      ],
      "source": [
        "%pip install \"ray[tune]\"\n",
        "# %pip install torch torchvision torchaudio # Uncomment this to install PyTorch 2.0+ on ilab (required version to run this program)"
      ]
    },
    {
      "cell_type": "markdown",
      "metadata": {
        "id": "dlslhPn-ftlp"
      },
      "source": [
        "## Import Libraries\n"
      ]
    },
    {
      "cell_type": "code",
      "execution_count": 31,
      "metadata": {
        "id": "UJxIqmj8ftlp"
      },
      "outputs": [],
      "source": [
        "from filelock import FileLock\n",
        "from ray import tune\n",
        "from ray.air import session\n",
        "from ray.air.checkpoint import Checkpoint\n",
        "from torch.utils.data import random_split\n",
        "import os\n",
        "import torch\n",
        "import torch.nn as nn\n",
        "import torch.nn.functional as F\n",
        "import torch.optim as optim\n",
        "import torchvision\n",
        "import torchvision.transforms as transforms\n",
        "from collections import OrderedDict\n"
      ]
    },
    {
      "cell_type": "markdown",
      "metadata": {
        "id": "vQf94O3tftlq"
      },
      "source": [
        "## Data loaders\n"
      ]
    },
    {
      "cell_type": "code",
      "execution_count": 32,
      "metadata": {
        "id": "QXWkYXr5ftlq"
      },
      "outputs": [],
      "source": [
        "def load_data(data_dir=\"./data\"):\n",
        "    transform = transforms.Compose(\n",
        "        [transforms.ToTensor(), transforms.Normalize((0.5, 0.5, 0.5), (0.5, 0.5, 0.5))]\n",
        "    )\n",
        "\n",
        "    with FileLock(os.path.expanduser(\"~/.data.lock\")):\n",
        "        trainset = torchvision.datasets.CIFAR10(\n",
        "            root=data_dir, train=True, download=True, transform=transform\n",
        "        )\n",
        "\n",
        "        testset = torchvision.datasets.CIFAR10(\n",
        "            root=data_dir, train=False, download=True, transform=transform\n",
        "        )\n",
        "\n",
        "    return trainset, testset\n"
      ]
    },
    {
      "cell_type": "markdown",
      "metadata": {
        "id": "4mDXWpHcftlq"
      },
      "source": [
        "## Configurable neural network\n"
      ]
    },
    {
      "cell_type": "code",
      "execution_count": 33,
      "metadata": {
        "id": "1u5jJ9oqftlr"
      },
      "outputs": [],
      "source": [
        "def flatten(x, start_dim=1, end_dim=-1):\n",
        "    return x.flatten(start_dim=start_dim, end_dim=end_dim)\n"
      ]
    },
    {
      "cell_type": "code",
      "source": [],
      "metadata": {
        "id": "HkiBDJVApdOb"
      },
      "execution_count": 33,
      "outputs": []
    },
    {
      "cell_type": "code",
      "execution_count": 34,
      "metadata": {
        "id": "Zm-_5RI3ftlr"
      },
      "outputs": [],
      "source": [
        "# Will need to modify the parameters and the network depending on what you are experimenting with\n",
        "\n",
        "C, H, W = 3, 32, 32\n",
        "num_classes = 10\n",
        "\n",
        "channel_1 = 16\n",
        "channel_2 = 32\n",
        "channel_3 = 64\n",
        "\n",
        "kernel_size_1 = 3\n",
        "kernel_size_2 = 3\n",
        "kernel_size_3 = 6\n",
        "\n",
        "pad_size_1 = 2\n",
        "pad_size_2 = 1\n",
        "pad_size_3 = 1\n",
        "\n",
        "learning_rate = 1e-2\n",
        "momentum = 0.5\n",
        "weight_decay = 1e-4\n",
        "\n",
        "pool_kernel_size = 2\n",
        "\n",
        "class Net(nn.Module):\n",
        "    def __init__(self, channel_1):\n",
        "        super(Net, self).__init__()\n",
        "        self.conv1 = nn.Conv2d(3, channel_1, kernel_size_1, padding=pad_size_1)\n",
        "        self.norm1 = nn.BatchNorm2d(channel_1)\n",
        "        self.pool1 = nn.MaxPool2d(pool_kernel_size)\n",
        "        self.conv2 = nn.Conv2d(channel_1, channel_2, kernel_size_2, padding=pad_size_2)\n",
        "        self.norm2 = nn.BatchNorm2d(channel_2)\n",
        "        self.pool2 = nn.MaxPool2d(pool_kernel_size)\n",
        "        self.conv3 = nn.Conv2d(channel_2, channel_3, kernel_size_3, padding=pad_size_3)\n",
        "        self.norm3 = nn.BatchNorm2d(channel_3)\n",
        "        self.pool3 = nn.MaxPool2d(pool_kernel_size)        \n",
        "\n",
        "        H_after_conv1 = int(H + 2*pad_size_1 - 1*(kernel_size_1-1) - 1 + 1)\n",
        "        W_after_conv1 = int(W + 2*pad_size_1 - 1*(kernel_size_1-1) - 1 + 1)\n",
        "        H_after_pool1 = int((H_after_conv1 + 2*0 - 1*(pool_kernel_size-1) - 1) / pool_kernel_size + 1)\n",
        "        W_after_pool1 = int((W_after_conv1 + 2*0 - 1*(pool_kernel_size-1) - 1) / pool_kernel_size + 1)\n",
        "        H_after_conv2 = int(H_after_pool1 + 2*pad_size_2 - 1*(kernel_size_2-1) - 1 + 1)\n",
        "        W_after_conv2 = int(W_after_pool1 + 2*pad_size_2 - 1*(kernel_size_2-1) - 1 + 1)\n",
        "        H_after_pool2 = int((H_after_conv2 + 2*0 - 1*(pool_kernel_size-1) - 1) / pool_kernel_size + 1)\n",
        "        W_after_pool2 = int((W_after_conv2 + 2*0 - 1*(pool_kernel_size-1) - 1) / pool_kernel_size + 1)  \n",
        "        H_after_conv3 = int(H_after_pool2 + 2*pad_size_3 - 1*(kernel_size_3-1) - 1 + 1)\n",
        "        W_after_conv3 = int(W_after_pool2 + 2*pad_size_3 - 1*(kernel_size_3-1) - 1 + 1)\n",
        "        H_after_pool3 = int((H_after_conv3 + 2*0 - 1*(pool_kernel_size-1) - 1) / pool_kernel_size + 1)\n",
        "        W_after_pool3 = int((W_after_conv3 + 2*0 - 1*(pool_kernel_size-1) - 1) / pool_kernel_size + 1)\n",
        "\n",
        "\n",
        "        self.fc1 = nn.Linear(H_after_pool3*W_after_pool3*channel_3, 10)\n",
        "\n",
        "    def forward(self, x):\n",
        "        x = self.conv1(x)\n",
        "        x = self.norm1(x)\n",
        "        x = F.relu(x)\n",
        "        x = self.pool1(x)\n",
        "        x = self.conv2(x)\n",
        "        x = self.norm2(x)\n",
        "        x = F.relu(x)\n",
        "        x = self.pool2(x)\n",
        "        x = self.conv3(x)\n",
        "        x = self.norm3(x)\n",
        "        x = F.relu(x)\n",
        "        x = self.pool3(x)\n",
        "        x = flatten(x)\n",
        "        x = self.fc1(x)\n",
        "\n",
        "\n",
        "        return x\n",
        "\n"
      ]
    },
    {
      "cell_type": "markdown",
      "metadata": {
        "id": "pyTiytvtftlr"
      },
      "source": [
        "## The train function\n"
      ]
    },
    {
      "cell_type": "code",
      "execution_count": 35,
      "metadata": {
        "id": "dbhf9PqDftls"
      },
      "outputs": [],
      "source": [
        "def train_cifar(config):\n",
        "    net = Net(config[\"channel_1\"]\n",
        "    )  # Will need to modify the parameters depending on what you are experimenting with\n",
        "\n",
        "    device = \"cpu\"\n",
        "    if torch.cuda.is_available():\n",
        "        device = \"cuda:0\"\n",
        "        if torch.cuda.device_count() > 1:\n",
        "            net = nn.DataParallel(net)\n",
        "    net.to(device)\n",
        "\n",
        "    criterion = nn.CrossEntropyLoss()\n",
        "    optimizer = optim.SGD(net.parameters(), lr=1e-2)\n",
        "\n",
        "    # Do not modify any code below!\n",
        "    loaded_checkpoint = session.get_checkpoint()\n",
        "    if loaded_checkpoint:\n",
        "        with loaded_checkpoint.as_directory() as loaded_checkpoint_dir:\n",
        "            model_state, optimizer_state = torch.load(\n",
        "                os.path.join(loaded_checkpoint_dir, \"checkpoint.pt\")\n",
        "            )\n",
        "            net.load_state_dict(model_state)\n",
        "            optimizer.load_state_dict(optimizer_state)\n",
        "\n",
        "    data_dir = os.path.abspath(\"./data\")\n",
        "    trainset, testset = load_data(data_dir)\n",
        "\n",
        "    test_abs = int(len(trainset) * 0.8)\n",
        "    train_subset, val_subset = random_split(\n",
        "        trainset, [test_abs, len(trainset) - test_abs]\n",
        "    )\n",
        "\n",
        "    trainloader = torch.utils.data.DataLoader(\n",
        "        train_subset, batch_size=64, shuffle=True, num_workers=8\n",
        "    )\n",
        "    valloader = torch.utils.data.DataLoader(\n",
        "        val_subset, batch_size=64, shuffle=True, num_workers=8\n",
        "    )\n",
        "\n",
        "    for epoch in range(10):\n",
        "        running_loss = 0.0\n",
        "        epoch_steps = 0\n",
        "        for i, data in enumerate(trainloader, 0):\n",
        "            inputs, labels = data\n",
        "            inputs, labels = inputs.to(device), labels.to(device)\n",
        "\n",
        "            optimizer.zero_grad()\n",
        "\n",
        "            outputs = net(inputs)\n",
        "            loss = criterion(outputs, labels)\n",
        "            loss.backward()\n",
        "            optimizer.step()\n",
        "\n",
        "            running_loss += loss.item()\n",
        "            epoch_steps += 1\n",
        "            if i % 2000 == 1999:\n",
        "                print(\n",
        "                    f\"[{epoch + 1}, {i + 1:>5} loss: {running_loss / epoch_steps:.3f}]\"\n",
        "                )\n",
        "                running_loss = 0.0\n",
        "\n",
        "        val_loss = 0.0\n",
        "        val_steps = 0\n",
        "        total = 0\n",
        "        correct = 0\n",
        "        for i, data in enumerate(valloader, 0):\n",
        "            with torch.no_grad():\n",
        "                inputs, labels = data\n",
        "                inputs, labels = inputs.to(device), labels.to(device)\n",
        "\n",
        "                outputs = net(inputs)\n",
        "                _, predicted = torch.max(outputs.data, 1)\n",
        "                total += labels.size(0)\n",
        "                correct += (predicted == labels).sum().item()\n",
        "\n",
        "                loss = criterion(outputs, labels)\n",
        "                val_loss += loss.cpu().numpy()\n",
        "                val_steps += 1\n",
        "\n",
        "        os.makedirs(\"my_model\", exist_ok=True)\n",
        "        torch.save((net.state_dict(), optimizer.state_dict()), \"my_model/checkpoint.pt\")\n",
        "        checkpoint = Checkpoint.from_directory(\"my_model\")\n",
        "        session.report(\n",
        "            {\"loss\": (val_loss / val_steps), \"accuracy\": correct / total},\n",
        "            checkpoint=checkpoint,\n",
        "        )\n",
        "    print(\"Finished Training\")\n"
      ]
    },
    {
      "cell_type": "markdown",
      "metadata": {
        "id": "gtFC-60vftls"
      },
      "source": [
        "## Test set accuracy\n"
      ]
    },
    {
      "cell_type": "code",
      "execution_count": 36,
      "metadata": {
        "id": "tU6WY0hSftls"
      },
      "outputs": [],
      "source": [
        "def test_best_model(best_result):\n",
        "    best_trained_model = Net(\n",
        "      best_result.config[\"channel_1\"]     \n",
        "    )  # Will need to modify the parameters depending on what you are experimenting with\n",
        "\n",
        "    # Do not modify any code below!\n",
        "    device = \"cuda:0\" if torch.cuda.is_available() else \"cpu\"\n",
        "    best_trained_model.to(device)\n",
        "\n",
        "    checkpoint_path = os.path.join(\n",
        "        best_result.checkpoint.to_directory(), \"checkpoint.pt\"\n",
        "    )\n",
        "\n",
        "    model_state, optimizer_state = torch.load(checkpoint_path)\n",
        "    best_trained_model.load_state_dict(model_state)\n",
        "\n",
        "    trainset, testset = load_data()\n",
        "\n",
        "    testloader = torch.utils.data.DataLoader(\n",
        "        testset, batch_size=4, shuffle=False, num_workers=2\n",
        "    )\n",
        "\n",
        "    correct = 0\n",
        "    total = 0\n",
        "    with torch.no_grad():\n",
        "        for data in testloader:\n",
        "            images, labels = data\n",
        "            images, labels = images.to(device), labels.to(device)\n",
        "            outputs = best_trained_model(images)\n",
        "            _, predicted = torch.max(outputs.data, 1)\n",
        "            total += labels.size(0)\n",
        "            correct += (predicted == labels).sum().item()\n",
        "\n",
        "    print(f\"Best trial test set accuracy: {correct / total}\")\n"
      ]
    },
    {
      "cell_type": "markdown",
      "metadata": {
        "id": "opC1SOZgftlt"
      },
      "source": [
        "## Configuring the search space\n"
      ]
    },
    {
      "cell_type": "code",
      "execution_count": 37,
      "metadata": {
        "id": "ferDU7xCftlt"
      },
      "outputs": [],
      "source": [
        "# You will be experimenting with the hyperparameters here\n",
        "# Use tune.grid_search to specify what values you want to experiment with a hyperparameter\n",
        "config = {\n",
        "    \"channel_1\": tune.grid_search([16])\n",
        "}\n",
        "\n"
      ]
    },
    {
      "cell_type": "code",
      "execution_count": 38,
      "metadata": {
        "colab": {
          "base_uri": "https://localhost:8080/",
          "height": 1000
        },
        "id": "b1Km9Mc6ftlt",
        "outputId": "77032d71-2ea2-4f41-fe48-d7220b7fc463"
      },
      "outputs": [
        {
          "output_type": "display_data",
          "data": {
            "text/plain": [
              "<IPython.core.display.HTML object>"
            ],
            "text/html": [
              "<div class=\"tuneStatus\">\n",
              "  <div style=\"display: flex;flex-direction: row\">\n",
              "    <div style=\"display: flex;flex-direction: column;\">\n",
              "      <h3>Tune Status</h3>\n",
              "      <table>\n",
              "<tbody>\n",
              "<tr><td>Current time:</td><td>2023-04-13 13:28:45</td></tr>\n",
              "<tr><td>Running for: </td><td>00:03:17.98        </td></tr>\n",
              "<tr><td>Memory:      </td><td>4.4/12.7 GiB       </td></tr>\n",
              "</tbody>\n",
              "</table>\n",
              "    </div>\n",
              "    <div class=\"vDivider\"></div>\n",
              "    <div class=\"systemInfo\">\n",
              "      <h3>System Info</h3>\n",
              "      Using FIFO scheduling algorithm.<br>Resources requested: 0/2 CPUs, 0/1 GPUs, 0.0/7.41 GiB heap, 0.0/3.71 GiB objects\n",
              "    </div>\n",
              "    \n",
              "  </div>\n",
              "  <div class=\"hDivider\"></div>\n",
              "  <div class=\"trialStatus\">\n",
              "    <h3>Trial Status</h3>\n",
              "    <table>\n",
              "<thead>\n",
              "<tr><th>Trial name             </th><th>status    </th><th>loc             </th><th style=\"text-align: right;\">  channel_1</th><th style=\"text-align: right;\">  iter</th><th style=\"text-align: right;\">  total time (s)</th><th style=\"text-align: right;\">   loss</th><th style=\"text-align: right;\">  accuracy</th></tr>\n",
              "</thead>\n",
              "<tbody>\n",
              "<tr><td>train_cifar_a772b_00000</td><td>TERMINATED</td><td>172.28.0.12:5751</td><td style=\"text-align: right;\">         16</td><td style=\"text-align: right;\">    10</td><td style=\"text-align: right;\">          192.06</td><td style=\"text-align: right;\">0.83591</td><td style=\"text-align: right;\">    0.7157</td></tr>\n",
              "</tbody>\n",
              "</table>\n",
              "  </div>\n",
              "</div>\n",
              "<style>\n",
              ".tuneStatus {\n",
              "  color: var(--jp-ui-font-color1);\n",
              "}\n",
              ".tuneStatus .systemInfo {\n",
              "  display: flex;\n",
              "  flex-direction: column;\n",
              "}\n",
              ".tuneStatus td {\n",
              "  white-space: nowrap;\n",
              "}\n",
              ".tuneStatus .trialStatus {\n",
              "  display: flex;\n",
              "  flex-direction: column;\n",
              "}\n",
              ".tuneStatus h3 {\n",
              "  font-weight: bold;\n",
              "}\n",
              ".tuneStatus .hDivider {\n",
              "  border-bottom-width: var(--jp-border-width);\n",
              "  border-bottom-color: var(--jp-border-color0);\n",
              "  border-bottom-style: solid;\n",
              "}\n",
              ".tuneStatus .vDivider {\n",
              "  border-left-width: var(--jp-border-width);\n",
              "  border-left-color: var(--jp-border-color0);\n",
              "  border-left-style: solid;\n",
              "  margin: 0.5em 1em 0.5em 1em;\n",
              "}\n",
              "</style>\n"
            ]
          },
          "metadata": {}
        },
        {
          "output_type": "stream",
          "name": "stdout",
          "text": [
            "\u001b[2m\u001b[36m(train_cifar pid=5751)\u001b[0m Downloading https://www.cs.toronto.edu/~kriz/cifar-10-python.tar.gz to /root/ray_results/train_cifar_2023-04-13_13-25-27/train_cifar_a772b_00000_0_channel_1=16_2023-04-13_13-25-27/data/cifar-10-python.tar.gz\n"
          ]
        },
        {
          "output_type": "stream",
          "name": "stderr",
          "text": [
            "\u001b[2m\u001b[36m(train_cifar pid=5751)\u001b[0m \r  0%|          | 0/170498071 [00:00<?, ?it/s]\n",
            "  0%|          | 65536/170498071 [00:00<04:42, 602696.69it/s]\n",
            "  0%|          | 229376/170498071 [00:00<02:28, 1144647.96it/s]\n",
            "  0%|          | 688128/170498071 [00:00<01:04, 2634416.32it/s]\n",
            "  1%|          | 1507328/170498071 [00:00<00:36, 4656437.51it/s]\n",
            "  3%|▎         | 4554752/170498071 [00:00<00:12, 13227298.78it/s]\n",
            "  5%|▍         | 7897088/170498071 [00:00<00:08, 19731932.10it/s]\n",
            "  8%|▊         | 13893632/170498071 [00:00<00:04, 32468946.51it/s]\n",
            " 11%|█▏        | 19202048/170498071 [00:00<00:03, 38720562.74it/s]\n",
            " 14%|█▍        | 23756800/170498071 [00:00<00:03, 40764117.97it/s]\n",
            " 17%|█▋        | 28704768/170498071 [00:01<00:03, 43409565.94it/s]\n",
            " 20%|█▉        | 33882112/170498071 [00:01<00:02, 45652632.29it/s]\n",
            " 23%|██▎       | 39288832/170498071 [00:01<00:02, 48098627.24it/s]\n",
            " 26%|██▌       | 44138496/170498071 [00:01<00:03, 40192513.34it/s]\n",
            " 28%|██▊       | 48562176/170498071 [00:01<00:03, 39605851.33it/s]\n",
            " 31%|███       | 52690944/170498071 [00:01<00:03, 32554035.69it/s]\n",
            " 35%|███▌      | 59801600/170498071 [00:01<00:02, 39063955.73it/s]\n",
            " 38%|███▊      | 63995904/170498071 [00:01<00:02, 38071316.55it/s]\n",
            " 40%|███▉      | 67993600/170498071 [00:02<00:02, 36775263.76it/s]\n",
            " 43%|████▎     | 73859072/170498071 [00:02<00:02, 40403089.94it/s]\n",
            " 46%|████▋     | 79036416/170498071 [00:02<00:02, 43312630.64it/s]\n",
            " 50%|████▉     | 84770816/170498071 [00:02<00:01, 45742936.85it/s]\n",
            " 52%|█████▏    | 89456640/170498071 [00:02<00:01, 43437567.72it/s]\n",
            " 55%|█████▌    | 93880320/170498071 [00:02<00:02, 36031525.15it/s]\n",
            " 59%|█████▉    | 100237312/170498071 [00:02<00:01, 41966407.74it/s]\n",
            " 62%|██████▏   | 105906176/170498071 [00:02<00:01, 45672566.73it/s]\n",
            " 65%|██████▌   | 111673344/170498071 [00:03<00:01, 48822483.23it/s]\n",
            " 68%|██████▊   | 116785152/170498071 [00:03<00:01, 48689409.98it/s]\n",
            " 72%|███████▏  | 122716160/170498071 [00:03<00:00, 51199778.24it/s]\n",
            " 75%|███████▌  | 127991808/170498071 [00:03<00:00, 50959702.34it/s]\n",
            " 78%|███████▊  | 133201920/170498071 [00:03<00:00, 49185998.82it/s]\n",
            " 81%|████████▏ | 138903552/170498071 [00:03<00:00, 50200446.74it/s]\n",
            " 85%|████████▍ | 144506880/170498071 [00:03<00:00, 51835715.31it/s]\n",
            " 88%|████████▊ | 149749760/170498071 [00:03<00:00, 51232537.70it/s]\n",
            " 91%|█████████ | 155320320/170498071 [00:03<00:00, 51228372.89it/s]\n",
            " 95%|█████████▍| 161415168/170498071 [00:03<00:00, 53996780.26it/s]\n",
            " 98%|█████████▊| 166854656/170498071 [00:04<00:00, 48261851.30it/s]\n",
            "100%|██████████| 170498071/170498071 [00:04<00:00, 40632633.70it/s]\n"
          ]
        },
        {
          "output_type": "stream",
          "name": "stdout",
          "text": [
            "\u001b[2m\u001b[36m(train_cifar pid=5751)\u001b[0m Extracting /root/ray_results/train_cifar_2023-04-13_13-25-27/train_cifar_a772b_00000_0_channel_1=16_2023-04-13_13-25-27/data/cifar-10-python.tar.gz to /root/ray_results/train_cifar_2023-04-13_13-25-27/train_cifar_a772b_00000_0_channel_1=16_2023-04-13_13-25-27/data\n",
            "\u001b[2m\u001b[36m(train_cifar pid=5751)\u001b[0m Files already downloaded and verified\n"
          ]
        },
        {
          "output_type": "stream",
          "name": "stderr",
          "text": [
            "\u001b[2m\u001b[36m(train_cifar pid=5751)\u001b[0m /usr/local/lib/python3.9/dist-packages/torch/utils/data/dataloader.py:561: UserWarning: This DataLoader will create 8 worker processes in total. Our suggested max number of worker in current system is 2, which is smaller than what this DataLoader is going to create. Please be aware that excessive worker creation might get DataLoader running slow or even freeze, lower the worker number to avoid potential slowness/freeze if necessary.\n",
            "\u001b[2m\u001b[36m(train_cifar pid=5751)\u001b[0m   warnings.warn(_create_warning_msg(\n"
          ]
        },
        {
          "output_type": "display_data",
          "data": {
            "text/plain": [
              "<IPython.core.display.HTML object>"
            ],
            "text/html": [
              "<div class=\"trialProgress\">\n",
              "  <h3>Trial Progress</h3>\n",
              "  <table>\n",
              "<thead>\n",
              "<tr><th>Trial name             </th><th style=\"text-align: right;\">  accuracy</th><th>date               </th><th>done  </th><th>episodes_total  </th><th>experiment_id                   </th><th>experiment_tag  </th><th>hostname    </th><th style=\"text-align: right;\">  iterations_since_restore</th><th style=\"text-align: right;\">   loss</th><th>node_ip    </th><th style=\"text-align: right;\">  pid</th><th>should_checkpoint  </th><th style=\"text-align: right;\">  time_since_restore</th><th style=\"text-align: right;\">  time_this_iter_s</th><th style=\"text-align: right;\">  time_total_s</th><th style=\"text-align: right;\">  timestamp</th><th style=\"text-align: right;\">  timesteps_since_restore</th><th>timesteps_total  </th><th style=\"text-align: right;\">  training_iteration</th><th>trial_id   </th><th style=\"text-align: right;\">  warmup_time</th></tr>\n",
              "</thead>\n",
              "<tbody>\n",
              "<tr><td>train_cifar_a772b_00000</td><td style=\"text-align: right;\">    0.7157</td><td>2023-04-13_13-28-45</td><td>True  </td><td>                </td><td>21dcea89ec0347a7bf963fc12a044f42</td><td>0_channel_1=16  </td><td>fbed3030f17a</td><td style=\"text-align: right;\">                        10</td><td style=\"text-align: right;\">0.83591</td><td>172.28.0.12</td><td style=\"text-align: right;\"> 5751</td><td>True               </td><td style=\"text-align: right;\">              192.06</td><td style=\"text-align: right;\">           17.6836</td><td style=\"text-align: right;\">        192.06</td><td style=\"text-align: right;\"> 1681392525</td><td style=\"text-align: right;\">                        0</td><td>                 </td><td style=\"text-align: right;\">                  10</td><td>a772b_00000</td><td style=\"text-align: right;\">   0.00547075</td></tr>\n",
              "</tbody>\n",
              "</table>\n",
              "</div>\n",
              "<style>\n",
              ".trialProgress {\n",
              "  display: flex;\n",
              "  flex-direction: column;\n",
              "  color: var(--jp-ui-font-color1);\n",
              "}\n",
              ".trialProgress h3 {\n",
              "  font-weight: bold;\n",
              "}\n",
              ".trialProgress td {\n",
              "  white-space: nowrap;\n",
              "}\n",
              "</style>\n"
            ]
          },
          "metadata": {}
        },
        {
          "output_type": "stream",
          "name": "stderr",
          "text": [
            "2023-04-13 13:28:45,258\tINFO tune.py:798 -- Total run time: 198.02 seconds (197.98 seconds for the tuning loop).\n"
          ]
        },
        {
          "output_type": "stream",
          "name": "stdout",
          "text": [
            "Best trial config: {'channel_1': 16}\n",
            "Best trial final validation loss: 0.8359095966740019\n",
            "Best trial final validation accuracy: 0.7157\n",
            "\u001b[2m\u001b[36m(train_cifar pid=5751)\u001b[0m Finished Training\n",
            "Downloading https://www.cs.toronto.edu/~kriz/cifar-10-python.tar.gz to ./data/cifar-10-python.tar.gz\n"
          ]
        },
        {
          "output_type": "stream",
          "name": "stderr",
          "text": [
            "100%|██████████| 170498071/170498071 [00:03<00:00, 48487407.04it/s]\n"
          ]
        },
        {
          "output_type": "stream",
          "name": "stdout",
          "text": [
            "Extracting ./data/cifar-10-python.tar.gz to ./data\n",
            "Files already downloaded and verified\n",
            "Best trial test set accuracy: 0.6507\n"
          ]
        }
      ],
      "source": [
        "# Do not modify any code below!\n",
        "def main(config):\n",
        "    tuner = tune.Tuner(\n",
        "        tune.with_resources(\n",
        "            tune.with_parameters(train_cifar),\n",
        "            resources={\"gpu\": 1},\n",
        "        ),\n",
        "        param_space=config,\n",
        "    )\n",
        "    results = tuner.fit()\n",
        "\n",
        "    best_result = results.get_best_result(\"accuracy\", \"max\")\n",
        "\n",
        "    print(f\"Best trial config: {best_result.config}\")\n",
        "    print(f\"Best trial final validation loss: {best_result.metrics['loss']}\")\n",
        "    print(f\"Best trial final validation accuracy: {best_result.metrics['accuracy']}\")\n",
        "\n",
        "    test_best_model(best_result)\n",
        "\n",
        "    return results.get_dataframe(\"accuracy\", \"max\")\n",
        "\n",
        "\n",
        "results_df = main(config)\n"
      ]
    },
    {
      "cell_type": "code",
      "execution_count": 39,
      "metadata": {
        "colab": {
          "base_uri": "https://localhost:8080/",
          "height": 81
        },
        "id": "bDHGqQUbftlt",
        "outputId": "c89675d5-a58a-4f44-ae5a-2906209f3df3"
      },
      "outputs": [
        {
          "output_type": "execute_result",
          "data": {
            "text/plain": [
              "      loss  accuracy  time_this_iter_s   done  time_total_s  config/channel_1\n",
              "0  0.83591    0.7157         17.683634  False     192.05955                16"
            ],
            "text/html": [
              "\n",
              "  <div id=\"df-658eb4c4-3b8a-47d8-b5dc-a2186b7a1ae7\">\n",
              "    <div class=\"colab-df-container\">\n",
              "      <div>\n",
              "<style scoped>\n",
              "    .dataframe tbody tr th:only-of-type {\n",
              "        vertical-align: middle;\n",
              "    }\n",
              "\n",
              "    .dataframe tbody tr th {\n",
              "        vertical-align: top;\n",
              "    }\n",
              "\n",
              "    .dataframe thead th {\n",
              "        text-align: right;\n",
              "    }\n",
              "</style>\n",
              "<table border=\"1\" class=\"dataframe\">\n",
              "  <thead>\n",
              "    <tr style=\"text-align: right;\">\n",
              "      <th></th>\n",
              "      <th>loss</th>\n",
              "      <th>accuracy</th>\n",
              "      <th>time_this_iter_s</th>\n",
              "      <th>done</th>\n",
              "      <th>time_total_s</th>\n",
              "      <th>config/channel_1</th>\n",
              "    </tr>\n",
              "  </thead>\n",
              "  <tbody>\n",
              "    <tr>\n",
              "      <th>0</th>\n",
              "      <td>0.83591</td>\n",
              "      <td>0.7157</td>\n",
              "      <td>17.683634</td>\n",
              "      <td>False</td>\n",
              "      <td>192.05955</td>\n",
              "      <td>16</td>\n",
              "    </tr>\n",
              "  </tbody>\n",
              "</table>\n",
              "</div>\n",
              "      <button class=\"colab-df-convert\" onclick=\"convertToInteractive('df-658eb4c4-3b8a-47d8-b5dc-a2186b7a1ae7')\"\n",
              "              title=\"Convert this dataframe to an interactive table.\"\n",
              "              style=\"display:none;\">\n",
              "        \n",
              "  <svg xmlns=\"http://www.w3.org/2000/svg\" height=\"24px\"viewBox=\"0 0 24 24\"\n",
              "       width=\"24px\">\n",
              "    <path d=\"M0 0h24v24H0V0z\" fill=\"none\"/>\n",
              "    <path d=\"M18.56 5.44l.94 2.06.94-2.06 2.06-.94-2.06-.94-.94-2.06-.94 2.06-2.06.94zm-11 1L8.5 8.5l.94-2.06 2.06-.94-2.06-.94L8.5 2.5l-.94 2.06-2.06.94zm10 10l.94 2.06.94-2.06 2.06-.94-2.06-.94-.94-2.06-.94 2.06-2.06.94z\"/><path d=\"M17.41 7.96l-1.37-1.37c-.4-.4-.92-.59-1.43-.59-.52 0-1.04.2-1.43.59L10.3 9.45l-7.72 7.72c-.78.78-.78 2.05 0 2.83L4 21.41c.39.39.9.59 1.41.59.51 0 1.02-.2 1.41-.59l7.78-7.78 2.81-2.81c.8-.78.8-2.07 0-2.86zM5.41 20L4 18.59l7.72-7.72 1.47 1.35L5.41 20z\"/>\n",
              "  </svg>\n",
              "      </button>\n",
              "      \n",
              "  <style>\n",
              "    .colab-df-container {\n",
              "      display:flex;\n",
              "      flex-wrap:wrap;\n",
              "      gap: 12px;\n",
              "    }\n",
              "\n",
              "    .colab-df-convert {\n",
              "      background-color: #E8F0FE;\n",
              "      border: none;\n",
              "      border-radius: 50%;\n",
              "      cursor: pointer;\n",
              "      display: none;\n",
              "      fill: #1967D2;\n",
              "      height: 32px;\n",
              "      padding: 0 0 0 0;\n",
              "      width: 32px;\n",
              "    }\n",
              "\n",
              "    .colab-df-convert:hover {\n",
              "      background-color: #E2EBFA;\n",
              "      box-shadow: 0px 1px 2px rgba(60, 64, 67, 0.3), 0px 1px 3px 1px rgba(60, 64, 67, 0.15);\n",
              "      fill: #174EA6;\n",
              "    }\n",
              "\n",
              "    [theme=dark] .colab-df-convert {\n",
              "      background-color: #3B4455;\n",
              "      fill: #D2E3FC;\n",
              "    }\n",
              "\n",
              "    [theme=dark] .colab-df-convert:hover {\n",
              "      background-color: #434B5C;\n",
              "      box-shadow: 0px 1px 3px 1px rgba(0, 0, 0, 0.15);\n",
              "      filter: drop-shadow(0px 1px 2px rgba(0, 0, 0, 0.3));\n",
              "      fill: #FFFFFF;\n",
              "    }\n",
              "  </style>\n",
              "\n",
              "      <script>\n",
              "        const buttonEl =\n",
              "          document.querySelector('#df-658eb4c4-3b8a-47d8-b5dc-a2186b7a1ae7 button.colab-df-convert');\n",
              "        buttonEl.style.display =\n",
              "          google.colab.kernel.accessAllowed ? 'block' : 'none';\n",
              "\n",
              "        async function convertToInteractive(key) {\n",
              "          const element = document.querySelector('#df-658eb4c4-3b8a-47d8-b5dc-a2186b7a1ae7');\n",
              "          const dataTable =\n",
              "            await google.colab.kernel.invokeFunction('convertToInteractive',\n",
              "                                                     [key], {});\n",
              "          if (!dataTable) return;\n",
              "\n",
              "          const docLinkHtml = 'Like what you see? Visit the ' +\n",
              "            '<a target=\"_blank\" href=https://colab.research.google.com/notebooks/data_table.ipynb>data table notebook</a>'\n",
              "            + ' to learn more about interactive tables.';\n",
              "          element.innerHTML = '';\n",
              "          dataTable['output_type'] = 'display_data';\n",
              "          await google.colab.output.renderOutput(dataTable, element);\n",
              "          const docLink = document.createElement('div');\n",
              "          docLink.innerHTML = docLinkHtml;\n",
              "          element.appendChild(docLink);\n",
              "        }\n",
              "      </script>\n",
              "    </div>\n",
              "  </div>\n",
              "  "
            ]
          },
          "metadata": {},
          "execution_count": 39
        }
      ],
      "source": [
        "final_df = results_df.drop(\n",
        "    columns=[\n",
        "        \"should_checkpoint\",\n",
        "        \"timesteps_total\",\n",
        "        \"episodes_total\",\n",
        "        \"training_iteration\",\n",
        "        \"trial_id\",\n",
        "        \"experiment_id\",\n",
        "        \"date\",\n",
        "        \"timestamp\",\n",
        "        \"pid\",\n",
        "        \"hostname\",\n",
        "        \"node_ip\",\n",
        "        \"time_since_restore\",\n",
        "        \"timesteps_since_restore\",\n",
        "        \"iterations_since_restore\",\n",
        "        \"warmup_time\",\n",
        "        \"logdir\",\n",
        "    ]\n",
        ")\n",
        "final_df.sort_values(by=['accuracy'], ascending=False).head(10)"
      ]
    },
    {
      "cell_type": "code",
      "source": [
        "final_df.sort_values(by=['accuracy']).head(10)"
      ],
      "metadata": {
        "id": "RX-pkeBQh8QK",
        "outputId": "8d80f27a-90d7-4423-8db9-254cff4b7bb6",
        "colab": {
          "base_uri": "https://localhost:8080/",
          "height": 81
        }
      },
      "execution_count": 40,
      "outputs": [
        {
          "output_type": "execute_result",
          "data": {
            "text/plain": [
              "      loss  accuracy  time_this_iter_s   done  time_total_s  config/channel_1\n",
              "0  0.83591    0.7157         17.683634  False     192.05955                16"
            ],
            "text/html": [
              "\n",
              "  <div id=\"df-eed22c18-774b-47b6-acff-0cc968cf7883\">\n",
              "    <div class=\"colab-df-container\">\n",
              "      <div>\n",
              "<style scoped>\n",
              "    .dataframe tbody tr th:only-of-type {\n",
              "        vertical-align: middle;\n",
              "    }\n",
              "\n",
              "    .dataframe tbody tr th {\n",
              "        vertical-align: top;\n",
              "    }\n",
              "\n",
              "    .dataframe thead th {\n",
              "        text-align: right;\n",
              "    }\n",
              "</style>\n",
              "<table border=\"1\" class=\"dataframe\">\n",
              "  <thead>\n",
              "    <tr style=\"text-align: right;\">\n",
              "      <th></th>\n",
              "      <th>loss</th>\n",
              "      <th>accuracy</th>\n",
              "      <th>time_this_iter_s</th>\n",
              "      <th>done</th>\n",
              "      <th>time_total_s</th>\n",
              "      <th>config/channel_1</th>\n",
              "    </tr>\n",
              "  </thead>\n",
              "  <tbody>\n",
              "    <tr>\n",
              "      <th>0</th>\n",
              "      <td>0.83591</td>\n",
              "      <td>0.7157</td>\n",
              "      <td>17.683634</td>\n",
              "      <td>False</td>\n",
              "      <td>192.05955</td>\n",
              "      <td>16</td>\n",
              "    </tr>\n",
              "  </tbody>\n",
              "</table>\n",
              "</div>\n",
              "      <button class=\"colab-df-convert\" onclick=\"convertToInteractive('df-eed22c18-774b-47b6-acff-0cc968cf7883')\"\n",
              "              title=\"Convert this dataframe to an interactive table.\"\n",
              "              style=\"display:none;\">\n",
              "        \n",
              "  <svg xmlns=\"http://www.w3.org/2000/svg\" height=\"24px\"viewBox=\"0 0 24 24\"\n",
              "       width=\"24px\">\n",
              "    <path d=\"M0 0h24v24H0V0z\" fill=\"none\"/>\n",
              "    <path d=\"M18.56 5.44l.94 2.06.94-2.06 2.06-.94-2.06-.94-.94-2.06-.94 2.06-2.06.94zm-11 1L8.5 8.5l.94-2.06 2.06-.94-2.06-.94L8.5 2.5l-.94 2.06-2.06.94zm10 10l.94 2.06.94-2.06 2.06-.94-2.06-.94-.94-2.06-.94 2.06-2.06.94z\"/><path d=\"M17.41 7.96l-1.37-1.37c-.4-.4-.92-.59-1.43-.59-.52 0-1.04.2-1.43.59L10.3 9.45l-7.72 7.72c-.78.78-.78 2.05 0 2.83L4 21.41c.39.39.9.59 1.41.59.51 0 1.02-.2 1.41-.59l7.78-7.78 2.81-2.81c.8-.78.8-2.07 0-2.86zM5.41 20L4 18.59l7.72-7.72 1.47 1.35L5.41 20z\"/>\n",
              "  </svg>\n",
              "      </button>\n",
              "      \n",
              "  <style>\n",
              "    .colab-df-container {\n",
              "      display:flex;\n",
              "      flex-wrap:wrap;\n",
              "      gap: 12px;\n",
              "    }\n",
              "\n",
              "    .colab-df-convert {\n",
              "      background-color: #E8F0FE;\n",
              "      border: none;\n",
              "      border-radius: 50%;\n",
              "      cursor: pointer;\n",
              "      display: none;\n",
              "      fill: #1967D2;\n",
              "      height: 32px;\n",
              "      padding: 0 0 0 0;\n",
              "      width: 32px;\n",
              "    }\n",
              "\n",
              "    .colab-df-convert:hover {\n",
              "      background-color: #E2EBFA;\n",
              "      box-shadow: 0px 1px 2px rgba(60, 64, 67, 0.3), 0px 1px 3px 1px rgba(60, 64, 67, 0.15);\n",
              "      fill: #174EA6;\n",
              "    }\n",
              "\n",
              "    [theme=dark] .colab-df-convert {\n",
              "      background-color: #3B4455;\n",
              "      fill: #D2E3FC;\n",
              "    }\n",
              "\n",
              "    [theme=dark] .colab-df-convert:hover {\n",
              "      background-color: #434B5C;\n",
              "      box-shadow: 0px 1px 3px 1px rgba(0, 0, 0, 0.15);\n",
              "      filter: drop-shadow(0px 1px 2px rgba(0, 0, 0, 0.3));\n",
              "      fill: #FFFFFF;\n",
              "    }\n",
              "  </style>\n",
              "\n",
              "      <script>\n",
              "        const buttonEl =\n",
              "          document.querySelector('#df-eed22c18-774b-47b6-acff-0cc968cf7883 button.colab-df-convert');\n",
              "        buttonEl.style.display =\n",
              "          google.colab.kernel.accessAllowed ? 'block' : 'none';\n",
              "\n",
              "        async function convertToInteractive(key) {\n",
              "          const element = document.querySelector('#df-eed22c18-774b-47b6-acff-0cc968cf7883');\n",
              "          const dataTable =\n",
              "            await google.colab.kernel.invokeFunction('convertToInteractive',\n",
              "                                                     [key], {});\n",
              "          if (!dataTable) return;\n",
              "\n",
              "          const docLinkHtml = 'Like what you see? Visit the ' +\n",
              "            '<a target=\"_blank\" href=https://colab.research.google.com/notebooks/data_table.ipynb>data table notebook</a>'\n",
              "            + ' to learn more about interactive tables.';\n",
              "          element.innerHTML = '';\n",
              "          dataTable['output_type'] = 'display_data';\n",
              "          await google.colab.output.renderOutput(dataTable, element);\n",
              "          const docLink = document.createElement('div');\n",
              "          docLink.innerHTML = docLinkHtml;\n",
              "          element.appendChild(docLink);\n",
              "        }\n",
              "      </script>\n",
              "    </div>\n",
              "  </div>\n",
              "  "
            ]
          },
          "metadata": {},
          "execution_count": 40
        }
      ]
    }
  ],
  "metadata": {
    "kernelspec": {
      "display_name": "Python 3 (ipykernel)",
      "language": "python",
      "name": "python3"
    },
    "language_info": {
      "codemirror_mode": {
        "name": "ipython",
        "version": 3
      },
      "file_extension": ".py",
      "mimetype": "text/x-python",
      "name": "python",
      "nbconvert_exporter": "python",
      "pygments_lexer": "ipython3",
      "version": "3.9.7"
    },
    "colab": {
      "provenance": []
    },
    "accelerator": "GPU",
    "gpuClass": "premium"
  },
  "nbformat": 4,
  "nbformat_minor": 0
}