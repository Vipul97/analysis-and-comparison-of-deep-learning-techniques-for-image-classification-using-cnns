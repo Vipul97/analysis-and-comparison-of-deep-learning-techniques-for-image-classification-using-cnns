{
 "cells": [
  {
   "cell_type": "code",
   "execution_count": null,
   "metadata": {
    "id": "102IZPRvXQ_b"
   },
   "outputs": [],
   "source": [
    "# install related packages\n",
    "!pip install bayesian-optimization==1.2.0\n",
    "from ray.tune.search import ConcurrencyLimiter\n",
    "from ray.tune.search.bayesopt import BayesOptSearch\n",
    "\n",
    "# add these to define the search algorithm befoe tune.Tuner()\n",
    "algo = BayesOptSearch(utility_kwargs={\"kind\": \"ucb\", \"kappa\": 2.5, \"xi\": 0.0})\n",
    "algo = ConcurrencyLimiter(algo, max_concurrent=1) # actually optional line\n",
    "\n",
    "# add in the tune.Tuner() by placing it in tune.TuneConfig()\n",
    "tune_config=tune.TuneConfig(\n",
    "    metric=\"accuracy\",\n",
    "    mode=\"max\",\n",
    "    search_alg=algo,\n",
    ")\n",
    "\n",
    "# can prob only use this if the search space contains only continuous parameters\n",
    "# for example, if they are learning rates, this will find a better solution faster than just grid search"
   ]
  }
 ],
 "metadata": {
  "colab": {
   "provenance": []
  },
  "kernelspec": {
   "display_name": "Python 3 (ipykernel)",
   "language": "python",
   "name": "python3"
  },
  "language_info": {
   "codemirror_mode": {
    "name": "ipython",
    "version": 3
   },
   "file_extension": ".py",
   "mimetype": "text/x-python",
   "name": "python",
   "nbconvert_exporter": "python",
   "pygments_lexer": "ipython3",
   "version": "3.9.7"
  }
 },
 "nbformat": 4,
 "nbformat_minor": 1
}
